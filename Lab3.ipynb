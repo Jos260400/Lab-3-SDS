{
  "metadata": {
    "language_info": {
      "codemirror_mode": {
        "name": "python",
        "version": 3
      },
      "file_extension": ".py",
      "mimetype": "text/x-python",
      "name": "python",
      "nbconvert_exporter": "python",
      "pygments_lexer": "ipython3",
      "version": "3.8"
    },
    "kernelspec": {
      "name": "python",
      "display_name": "Python (Pyodide)",
      "language": "python"
    }
  },
  "nbformat_minor": 4,
  "nbformat": 4,
  "cells": [
    {
      "cell_type": "code",
      "source": "#Universidad del Valle de Guatemala\n#Security Data Science\n#Fernando José Garavito Ovando 18071\n#Laboratorio No. 3",
      "metadata": {},
      "execution_count": null,
      "outputs": []
    },
    {
      "cell_type": "code",
      "source": "import pandas as pd\nimport numpy as np\nimport re\nfrom collections import Counter\nimport matplotlib.pyplot as plt\nimport matplotlib",
      "metadata": {
        "trusted": true
      },
      "execution_count": 3,
      "outputs": []
    },
    {
      "cell_type": "code",
      "source": "df = pd.read_csv('VirusSample.csv')\ndf.sample(23)",
      "metadata": {
        "trusted": true
      },
      "execution_count": 4,
      "outputs": [
        {
          "execution_count": 4,
          "output_type": "execute_result",
          "data": {
            "text/plain": "                                            tLastError  \\\n207  06ddfd6abdcf34ad86da34dc33b5355826ab592f06c576...   \n173  21b549e7369dbae0b4080009293aa02f030c4c35f62e41...   \n189  2e3fa3f01832330485f437f69cab15d92ebaf1ec89a2b0...   \n252  ea965bce9c4a50e657efc30d7a994e5b1420c8032ac007...   \n514  48e0019fd3dd5a49f0a9dc0e5579ea1afd2fbe6e9db58e...   \n261  bf8581b280f88adad908153bdd8dad8eba5e87ddbf3e6a...   \n536  be7d4be8e48719257d6040c3e9a1f6f15bc2616ca22276...   \n425  a499ffa8669108f334f4e99b6bb3303945f1e712144a20...   \n5             0586d2ac8354bbf9e953a203441baa25e0ec5080   \n395  1e40a063ea96f26b780c711a21ec6f66bb42776a29df07...   \n127  7556ad05ca27784c82a3a24ea9dcab27de02fb4101ac51...   \n188  bb873c631955c4f0bc86a096f36765e883436b8030c1e8...   \n87   d3ca5b8981dab3d5564c91b4e11c5b4ab9122219bbe802...   \n312  6e42d63bbafbe044ed0c107736d24f89c8efd1cd1e79b9...   \n358  f4d6dc6346ddc390cb7fea840cb2b0017caeeea36b61a7...   \n513  3151b00e16a38ca65790515de84e35e207795b51177459...   \n349  9453d52bd869155de39773ad2c77ab8954d9d837ad9444...   \n382  98f0d6b0a1e68411ad767f29368dd07e12d31ae0f1ed90...   \n405  a5c5e809aeddc57ebed899cc496de85485ea283f740758...   \n151  ef6ab2158440c4e519233df54bb8a49c8bea981b5beca1...   \n517  1ca46dd2113d095abfe30e7fca5ead08ed7d0e44d89ec0...   \n144  537fdb05b318a195d85b96f371d9e7e3f1275dca4bac65...   \n371  347c2d6bcf59e46db9d361e31c075d23579d2a7ea5786d...   \n\n                                       GetCommandLineA FreeLibrary  \\\n207  RtlReleaseMemoryStream,IsValidPtrIn,SetEntries...       Virus   \n173  CheckTokenMembership,SafeArrayAccessData,GetAc...       Virus   \n189  BeginDeferWindowPos,GetClassInfoExA,IsCharLowe...       Virus   \n252  GetWindowDC,FillRect,GetCommandLineW,GetSystem...       Virus   \n514  RtlIsGenericTableEmpty,GetActiveWindow,GetThre...       Virus   \n261  UnlockServiceDatabase,GetCommandLineA,GetInput...       Virus   \n536  SwitchToFiber,GetUserDefaultLCID,GetCurrentThr...      Trojan   \n425  NtTraceEvent,GetCurrentProcessId,GetDesktopWindow       Virus   \n5    GetCurrentThreadId,GetLastError,ExitProcess,Wr...       Worms   \n395  SetMailslotInfo,GetVersion,MoveFileWithProgres...       Virus   \n127  RtlQueueWorkItem,NtTranslateFilePath,GetProfil...       Virus   \n188  SaferCreateLevel,ComPs_NdrDllCanUnloadNow,Quer...       Virus   \n87   ILGetNext,GetVersion,SleepEx,SetSecurityInfoEx...       Virus   \n312  GetDoubleClickTime,IsWindow,GetUserDefaultLCID...       Virus   \n358  LookupIconIdFromDirectoryEx,GetProcessWindowSt...       Virus   \n513  LsaLookupPrivilegeName,NtQuerySystemInformatio...       Virus   \n349  RtlMultiAppendUnicodeStringBuffer,HACCEL_UserS...       Virus   \n382  CallMsgFilterW,GetForegroundWindow,LoadImageW,...       Virus   \n405  StgOpenStorageEx,GetCurrentHwProfileA,ZwSetSys...       Virus   \n151  GetCaretBlinkTime,TileWindows,CreateFileW,GetV...       Virus   \n517  FindWindowExW,GetClipboardViewer,GetClipboardS...       Virus   \n144  GetMessageTime,GetCaretBlinkTime,UpdateLayered...       Virus   \n371  RtlPopFrame,NtCreateKeyedEvent,GetMessagePos,G...       Virus   \n\n     FindFirstFileA  FindClose  ExitProcess  WriteFile  \\\n207             NaN        NaN          NaN        NaN   \n173             NaN        NaN          NaN        NaN   \n189             NaN        NaN          NaN        NaN   \n252             NaN        NaN          NaN        NaN   \n514             NaN        NaN          NaN        NaN   \n261             NaN        NaN          NaN        NaN   \n536             NaN        NaN          NaN        NaN   \n425             NaN        NaN          NaN        NaN   \n5               NaN        NaN          NaN        NaN   \n395             NaN        NaN          NaN        NaN   \n127             NaN        NaN          NaN        NaN   \n188             NaN        NaN          NaN        NaN   \n87              NaN        NaN          NaN        NaN   \n312             NaN        NaN          NaN        NaN   \n358             NaN        NaN          NaN        NaN   \n513             NaN        NaN          NaN        NaN   \n349             NaN        NaN          NaN        NaN   \n382             NaN        NaN          NaN        NaN   \n405             NaN        NaN          NaN        NaN   \n151             NaN        NaN          NaN        NaN   \n517             NaN        NaN          NaN        NaN   \n144             NaN        NaN          NaN        NaN   \n371             NaN        NaN          NaN        NaN   \n\n     UnhandledExceptionFilter  SetFilePointer  SetEndOfFile  ...  \\\n207                       NaN             NaN           NaN  ...   \n173                       NaN             NaN           NaN  ...   \n189                       NaN             NaN           NaN  ...   \n252                       NaN             NaN           NaN  ...   \n514                       NaN             NaN           NaN  ...   \n261                       NaN             NaN           NaN  ...   \n536                       NaN             NaN           NaN  ...   \n425                       NaN             NaN           NaN  ...   \n5                         NaN             NaN           NaN  ...   \n395                       NaN             NaN           NaN  ...   \n127                       NaN             NaN           NaN  ...   \n188                       NaN             NaN           NaN  ...   \n87                        NaN             NaN           NaN  ...   \n312                       NaN             NaN           NaN  ...   \n358                       NaN             NaN           NaN  ...   \n513                       NaN             NaN           NaN  ...   \n349                       NaN             NaN           NaN  ...   \n382                       NaN             NaN           NaN  ...   \n405                       NaN             NaN           NaN  ...   \n151                       NaN             NaN           NaN  ...   \n517                       NaN             NaN           NaN  ...   \n144                       NaN             NaN           NaN  ...   \n371                       NaN             NaN           NaN  ...   \n\n     SysAllocStringLen  MessageBoxA  LoadStringA  GetSystemMetrics  CharNextA  \\\n207                NaN          NaN          NaN               NaN        NaN   \n173                NaN          NaN          NaN               NaN        NaN   \n189                NaN          NaN          NaN               NaN        NaN   \n252                NaN          NaN          NaN               NaN        NaN   \n514                NaN          NaN          NaN               NaN        NaN   \n261                NaN          NaN          NaN               NaN        NaN   \n536                NaN          NaN          NaN               NaN        NaN   \n425                NaN          NaN          NaN               NaN        NaN   \n5                  NaN          NaN          NaN               NaN        NaN   \n395                NaN          NaN          NaN               NaN        NaN   \n127                NaN          NaN          NaN               NaN        NaN   \n188                NaN          NaN          NaN               NaN        NaN   \n87                 NaN          NaN          NaN               NaN        NaN   \n312                NaN          NaN          NaN               NaN        NaN   \n358                NaN          NaN          NaN               NaN        NaN   \n513                NaN          NaN          NaN               NaN        NaN   \n349                NaN          NaN          NaN               NaN        NaN   \n382                NaN          NaN          NaN               NaN        NaN   \n405                NaN          NaN          NaN               NaN        NaN   \n151                NaN          NaN          NaN               NaN        NaN   \n517                NaN          NaN          NaN               NaN        NaN   \n144                NaN          NaN          NaN               NaN        NaN   \n371                NaN          NaN          NaN               NaN        NaN   \n\n     GetKeyboardType  LoadStringA.1  MessageBoxA.1  CharNextA\"  Worms  \n207              NaN            NaN            NaN         NaN    NaN  \n173              NaN            NaN            NaN         NaN    NaN  \n189              NaN            NaN            NaN         NaN    NaN  \n252              NaN            NaN            NaN         NaN    NaN  \n514              NaN            NaN            NaN         NaN    NaN  \n261              NaN            NaN            NaN         NaN    NaN  \n536              NaN            NaN            NaN         NaN    NaN  \n425              NaN            NaN            NaN         NaN    NaN  \n5                NaN            NaN            NaN         NaN    NaN  \n395              NaN            NaN            NaN         NaN    NaN  \n127              NaN            NaN            NaN         NaN    NaN  \n188              NaN            NaN            NaN         NaN    NaN  \n87               NaN            NaN            NaN         NaN    NaN  \n312              NaN            NaN            NaN         NaN    NaN  \n358              NaN            NaN            NaN         NaN    NaN  \n513              NaN            NaN            NaN         NaN    NaN  \n349              NaN            NaN            NaN         NaN    NaN  \n382              NaN            NaN            NaN         NaN    NaN  \n405              NaN            NaN            NaN         NaN    NaN  \n151              NaN            NaN            NaN         NaN    NaN  \n517              NaN            NaN            NaN         NaN    NaN  \n144              NaN            NaN            NaN         NaN    NaN  \n371              NaN            NaN            NaN         NaN    NaN  \n\n[23 rows x 98 columns]",
            "text/html": "<div>\n<style scoped>\n    .dataframe tbody tr th:only-of-type {\n        vertical-align: middle;\n    }\n\n    .dataframe tbody tr th {\n        vertical-align: top;\n    }\n\n    .dataframe thead th {\n        text-align: right;\n    }\n</style>\n<table border=\"1\" class=\"dataframe\">\n  <thead>\n    <tr style=\"text-align: right;\">\n      <th></th>\n      <th>tLastError</th>\n      <th>GetCommandLineA</th>\n      <th>FreeLibrary</th>\n      <th>FindFirstFileA</th>\n      <th>FindClose</th>\n      <th>ExitProcess</th>\n      <th>WriteFile</th>\n      <th>UnhandledExceptionFilter</th>\n      <th>SetFilePointer</th>\n      <th>SetEndOfFile</th>\n      <th>...</th>\n      <th>SysAllocStringLen</th>\n      <th>MessageBoxA</th>\n      <th>LoadStringA</th>\n      <th>GetSystemMetrics</th>\n      <th>CharNextA</th>\n      <th>GetKeyboardType</th>\n      <th>LoadStringA.1</th>\n      <th>MessageBoxA.1</th>\n      <th>CharNextA\"</th>\n      <th>Worms</th>\n    </tr>\n  </thead>\n  <tbody>\n    <tr>\n      <th>207</th>\n      <td>06ddfd6abdcf34ad86da34dc33b5355826ab592f06c576...</td>\n      <td>RtlReleaseMemoryStream,IsValidPtrIn,SetEntries...</td>\n      <td>Virus</td>\n      <td>NaN</td>\n      <td>NaN</td>\n      <td>NaN</td>\n      <td>NaN</td>\n      <td>NaN</td>\n      <td>NaN</td>\n      <td>NaN</td>\n      <td>...</td>\n      <td>NaN</td>\n      <td>NaN</td>\n      <td>NaN</td>\n      <td>NaN</td>\n      <td>NaN</td>\n      <td>NaN</td>\n      <td>NaN</td>\n      <td>NaN</td>\n      <td>NaN</td>\n      <td>NaN</td>\n    </tr>\n    <tr>\n      <th>173</th>\n      <td>21b549e7369dbae0b4080009293aa02f030c4c35f62e41...</td>\n      <td>CheckTokenMembership,SafeArrayAccessData,GetAc...</td>\n      <td>Virus</td>\n      <td>NaN</td>\n      <td>NaN</td>\n      <td>NaN</td>\n      <td>NaN</td>\n      <td>NaN</td>\n      <td>NaN</td>\n      <td>NaN</td>\n      <td>...</td>\n      <td>NaN</td>\n      <td>NaN</td>\n      <td>NaN</td>\n      <td>NaN</td>\n      <td>NaN</td>\n      <td>NaN</td>\n      <td>NaN</td>\n      <td>NaN</td>\n      <td>NaN</td>\n      <td>NaN</td>\n    </tr>\n    <tr>\n      <th>189</th>\n      <td>2e3fa3f01832330485f437f69cab15d92ebaf1ec89a2b0...</td>\n      <td>BeginDeferWindowPos,GetClassInfoExA,IsCharLowe...</td>\n      <td>Virus</td>\n      <td>NaN</td>\n      <td>NaN</td>\n      <td>NaN</td>\n      <td>NaN</td>\n      <td>NaN</td>\n      <td>NaN</td>\n      <td>NaN</td>\n      <td>...</td>\n      <td>NaN</td>\n      <td>NaN</td>\n      <td>NaN</td>\n      <td>NaN</td>\n      <td>NaN</td>\n      <td>NaN</td>\n      <td>NaN</td>\n      <td>NaN</td>\n      <td>NaN</td>\n      <td>NaN</td>\n    </tr>\n    <tr>\n      <th>252</th>\n      <td>ea965bce9c4a50e657efc30d7a994e5b1420c8032ac007...</td>\n      <td>GetWindowDC,FillRect,GetCommandLineW,GetSystem...</td>\n      <td>Virus</td>\n      <td>NaN</td>\n      <td>NaN</td>\n      <td>NaN</td>\n      <td>NaN</td>\n      <td>NaN</td>\n      <td>NaN</td>\n      <td>NaN</td>\n      <td>...</td>\n      <td>NaN</td>\n      <td>NaN</td>\n      <td>NaN</td>\n      <td>NaN</td>\n      <td>NaN</td>\n      <td>NaN</td>\n      <td>NaN</td>\n      <td>NaN</td>\n      <td>NaN</td>\n      <td>NaN</td>\n    </tr>\n    <tr>\n      <th>514</th>\n      <td>48e0019fd3dd5a49f0a9dc0e5579ea1afd2fbe6e9db58e...</td>\n      <td>RtlIsGenericTableEmpty,GetActiveWindow,GetThre...</td>\n      <td>Virus</td>\n      <td>NaN</td>\n      <td>NaN</td>\n      <td>NaN</td>\n      <td>NaN</td>\n      <td>NaN</td>\n      <td>NaN</td>\n      <td>NaN</td>\n      <td>...</td>\n      <td>NaN</td>\n      <td>NaN</td>\n      <td>NaN</td>\n      <td>NaN</td>\n      <td>NaN</td>\n      <td>NaN</td>\n      <td>NaN</td>\n      <td>NaN</td>\n      <td>NaN</td>\n      <td>NaN</td>\n    </tr>\n    <tr>\n      <th>261</th>\n      <td>bf8581b280f88adad908153bdd8dad8eba5e87ddbf3e6a...</td>\n      <td>UnlockServiceDatabase,GetCommandLineA,GetInput...</td>\n      <td>Virus</td>\n      <td>NaN</td>\n      <td>NaN</td>\n      <td>NaN</td>\n      <td>NaN</td>\n      <td>NaN</td>\n      <td>NaN</td>\n      <td>NaN</td>\n      <td>...</td>\n      <td>NaN</td>\n      <td>NaN</td>\n      <td>NaN</td>\n      <td>NaN</td>\n      <td>NaN</td>\n      <td>NaN</td>\n      <td>NaN</td>\n      <td>NaN</td>\n      <td>NaN</td>\n      <td>NaN</td>\n    </tr>\n    <tr>\n      <th>536</th>\n      <td>be7d4be8e48719257d6040c3e9a1f6f15bc2616ca22276...</td>\n      <td>SwitchToFiber,GetUserDefaultLCID,GetCurrentThr...</td>\n      <td>Trojan</td>\n      <td>NaN</td>\n      <td>NaN</td>\n      <td>NaN</td>\n      <td>NaN</td>\n      <td>NaN</td>\n      <td>NaN</td>\n      <td>NaN</td>\n      <td>...</td>\n      <td>NaN</td>\n      <td>NaN</td>\n      <td>NaN</td>\n      <td>NaN</td>\n      <td>NaN</td>\n      <td>NaN</td>\n      <td>NaN</td>\n      <td>NaN</td>\n      <td>NaN</td>\n      <td>NaN</td>\n    </tr>\n    <tr>\n      <th>425</th>\n      <td>a499ffa8669108f334f4e99b6bb3303945f1e712144a20...</td>\n      <td>NtTraceEvent,GetCurrentProcessId,GetDesktopWindow</td>\n      <td>Virus</td>\n      <td>NaN</td>\n      <td>NaN</td>\n      <td>NaN</td>\n      <td>NaN</td>\n      <td>NaN</td>\n      <td>NaN</td>\n      <td>NaN</td>\n      <td>...</td>\n      <td>NaN</td>\n      <td>NaN</td>\n      <td>NaN</td>\n      <td>NaN</td>\n      <td>NaN</td>\n      <td>NaN</td>\n      <td>NaN</td>\n      <td>NaN</td>\n      <td>NaN</td>\n      <td>NaN</td>\n    </tr>\n    <tr>\n      <th>5</th>\n      <td>0586d2ac8354bbf9e953a203441baa25e0ec5080</td>\n      <td>GetCurrentThreadId,GetLastError,ExitProcess,Wr...</td>\n      <td>Worms</td>\n      <td>NaN</td>\n      <td>NaN</td>\n      <td>NaN</td>\n      <td>NaN</td>\n      <td>NaN</td>\n      <td>NaN</td>\n      <td>NaN</td>\n      <td>...</td>\n      <td>NaN</td>\n      <td>NaN</td>\n      <td>NaN</td>\n      <td>NaN</td>\n      <td>NaN</td>\n      <td>NaN</td>\n      <td>NaN</td>\n      <td>NaN</td>\n      <td>NaN</td>\n      <td>NaN</td>\n    </tr>\n    <tr>\n      <th>395</th>\n      <td>1e40a063ea96f26b780c711a21ec6f66bb42776a29df07...</td>\n      <td>SetMailslotInfo,GetVersion,MoveFileWithProgres...</td>\n      <td>Virus</td>\n      <td>NaN</td>\n      <td>NaN</td>\n      <td>NaN</td>\n      <td>NaN</td>\n      <td>NaN</td>\n      <td>NaN</td>\n      <td>NaN</td>\n      <td>...</td>\n      <td>NaN</td>\n      <td>NaN</td>\n      <td>NaN</td>\n      <td>NaN</td>\n      <td>NaN</td>\n      <td>NaN</td>\n      <td>NaN</td>\n      <td>NaN</td>\n      <td>NaN</td>\n      <td>NaN</td>\n    </tr>\n    <tr>\n      <th>127</th>\n      <td>7556ad05ca27784c82a3a24ea9dcab27de02fb4101ac51...</td>\n      <td>RtlQueueWorkItem,NtTranslateFilePath,GetProfil...</td>\n      <td>Virus</td>\n      <td>NaN</td>\n      <td>NaN</td>\n      <td>NaN</td>\n      <td>NaN</td>\n      <td>NaN</td>\n      <td>NaN</td>\n      <td>NaN</td>\n      <td>...</td>\n      <td>NaN</td>\n      <td>NaN</td>\n      <td>NaN</td>\n      <td>NaN</td>\n      <td>NaN</td>\n      <td>NaN</td>\n      <td>NaN</td>\n      <td>NaN</td>\n      <td>NaN</td>\n      <td>NaN</td>\n    </tr>\n    <tr>\n      <th>188</th>\n      <td>bb873c631955c4f0bc86a096f36765e883436b8030c1e8...</td>\n      <td>SaferCreateLevel,ComPs_NdrDllCanUnloadNow,Quer...</td>\n      <td>Virus</td>\n      <td>NaN</td>\n      <td>NaN</td>\n      <td>NaN</td>\n      <td>NaN</td>\n      <td>NaN</td>\n      <td>NaN</td>\n      <td>NaN</td>\n      <td>...</td>\n      <td>NaN</td>\n      <td>NaN</td>\n      <td>NaN</td>\n      <td>NaN</td>\n      <td>NaN</td>\n      <td>NaN</td>\n      <td>NaN</td>\n      <td>NaN</td>\n      <td>NaN</td>\n      <td>NaN</td>\n    </tr>\n    <tr>\n      <th>87</th>\n      <td>d3ca5b8981dab3d5564c91b4e11c5b4ab9122219bbe802...</td>\n      <td>ILGetNext,GetVersion,SleepEx,SetSecurityInfoEx...</td>\n      <td>Virus</td>\n      <td>NaN</td>\n      <td>NaN</td>\n      <td>NaN</td>\n      <td>NaN</td>\n      <td>NaN</td>\n      <td>NaN</td>\n      <td>NaN</td>\n      <td>...</td>\n      <td>NaN</td>\n      <td>NaN</td>\n      <td>NaN</td>\n      <td>NaN</td>\n      <td>NaN</td>\n      <td>NaN</td>\n      <td>NaN</td>\n      <td>NaN</td>\n      <td>NaN</td>\n      <td>NaN</td>\n    </tr>\n    <tr>\n      <th>312</th>\n      <td>6e42d63bbafbe044ed0c107736d24f89c8efd1cd1e79b9...</td>\n      <td>GetDoubleClickTime,IsWindow,GetUserDefaultLCID...</td>\n      <td>Virus</td>\n      <td>NaN</td>\n      <td>NaN</td>\n      <td>NaN</td>\n      <td>NaN</td>\n      <td>NaN</td>\n      <td>NaN</td>\n      <td>NaN</td>\n      <td>...</td>\n      <td>NaN</td>\n      <td>NaN</td>\n      <td>NaN</td>\n      <td>NaN</td>\n      <td>NaN</td>\n      <td>NaN</td>\n      <td>NaN</td>\n      <td>NaN</td>\n      <td>NaN</td>\n      <td>NaN</td>\n    </tr>\n    <tr>\n      <th>358</th>\n      <td>f4d6dc6346ddc390cb7fea840cb2b0017caeeea36b61a7...</td>\n      <td>LookupIconIdFromDirectoryEx,GetProcessWindowSt...</td>\n      <td>Virus</td>\n      <td>NaN</td>\n      <td>NaN</td>\n      <td>NaN</td>\n      <td>NaN</td>\n      <td>NaN</td>\n      <td>NaN</td>\n      <td>NaN</td>\n      <td>...</td>\n      <td>NaN</td>\n      <td>NaN</td>\n      <td>NaN</td>\n      <td>NaN</td>\n      <td>NaN</td>\n      <td>NaN</td>\n      <td>NaN</td>\n      <td>NaN</td>\n      <td>NaN</td>\n      <td>NaN</td>\n    </tr>\n    <tr>\n      <th>513</th>\n      <td>3151b00e16a38ca65790515de84e35e207795b51177459...</td>\n      <td>LsaLookupPrivilegeName,NtQuerySystemInformatio...</td>\n      <td>Virus</td>\n      <td>NaN</td>\n      <td>NaN</td>\n      <td>NaN</td>\n      <td>NaN</td>\n      <td>NaN</td>\n      <td>NaN</td>\n      <td>NaN</td>\n      <td>...</td>\n      <td>NaN</td>\n      <td>NaN</td>\n      <td>NaN</td>\n      <td>NaN</td>\n      <td>NaN</td>\n      <td>NaN</td>\n      <td>NaN</td>\n      <td>NaN</td>\n      <td>NaN</td>\n      <td>NaN</td>\n    </tr>\n    <tr>\n      <th>349</th>\n      <td>9453d52bd869155de39773ad2c77ab8954d9d837ad9444...</td>\n      <td>RtlMultiAppendUnicodeStringBuffer,HACCEL_UserS...</td>\n      <td>Virus</td>\n      <td>NaN</td>\n      <td>NaN</td>\n      <td>NaN</td>\n      <td>NaN</td>\n      <td>NaN</td>\n      <td>NaN</td>\n      <td>NaN</td>\n      <td>...</td>\n      <td>NaN</td>\n      <td>NaN</td>\n      <td>NaN</td>\n      <td>NaN</td>\n      <td>NaN</td>\n      <td>NaN</td>\n      <td>NaN</td>\n      <td>NaN</td>\n      <td>NaN</td>\n      <td>NaN</td>\n    </tr>\n    <tr>\n      <th>382</th>\n      <td>98f0d6b0a1e68411ad767f29368dd07e12d31ae0f1ed90...</td>\n      <td>CallMsgFilterW,GetForegroundWindow,LoadImageW,...</td>\n      <td>Virus</td>\n      <td>NaN</td>\n      <td>NaN</td>\n      <td>NaN</td>\n      <td>NaN</td>\n      <td>NaN</td>\n      <td>NaN</td>\n      <td>NaN</td>\n      <td>...</td>\n      <td>NaN</td>\n      <td>NaN</td>\n      <td>NaN</td>\n      <td>NaN</td>\n      <td>NaN</td>\n      <td>NaN</td>\n      <td>NaN</td>\n      <td>NaN</td>\n      <td>NaN</td>\n      <td>NaN</td>\n    </tr>\n    <tr>\n      <th>405</th>\n      <td>a5c5e809aeddc57ebed899cc496de85485ea283f740758...</td>\n      <td>StgOpenStorageEx,GetCurrentHwProfileA,ZwSetSys...</td>\n      <td>Virus</td>\n      <td>NaN</td>\n      <td>NaN</td>\n      <td>NaN</td>\n      <td>NaN</td>\n      <td>NaN</td>\n      <td>NaN</td>\n      <td>NaN</td>\n      <td>...</td>\n      <td>NaN</td>\n      <td>NaN</td>\n      <td>NaN</td>\n      <td>NaN</td>\n      <td>NaN</td>\n      <td>NaN</td>\n      <td>NaN</td>\n      <td>NaN</td>\n      <td>NaN</td>\n      <td>NaN</td>\n    </tr>\n    <tr>\n      <th>151</th>\n      <td>ef6ab2158440c4e519233df54bb8a49c8bea981b5beca1...</td>\n      <td>GetCaretBlinkTime,TileWindows,CreateFileW,GetV...</td>\n      <td>Virus</td>\n      <td>NaN</td>\n      <td>NaN</td>\n      <td>NaN</td>\n      <td>NaN</td>\n      <td>NaN</td>\n      <td>NaN</td>\n      <td>NaN</td>\n      <td>...</td>\n      <td>NaN</td>\n      <td>NaN</td>\n      <td>NaN</td>\n      <td>NaN</td>\n      <td>NaN</td>\n      <td>NaN</td>\n      <td>NaN</td>\n      <td>NaN</td>\n      <td>NaN</td>\n      <td>NaN</td>\n    </tr>\n    <tr>\n      <th>517</th>\n      <td>1ca46dd2113d095abfe30e7fca5ead08ed7d0e44d89ec0...</td>\n      <td>FindWindowExW,GetClipboardViewer,GetClipboardS...</td>\n      <td>Virus</td>\n      <td>NaN</td>\n      <td>NaN</td>\n      <td>NaN</td>\n      <td>NaN</td>\n      <td>NaN</td>\n      <td>NaN</td>\n      <td>NaN</td>\n      <td>...</td>\n      <td>NaN</td>\n      <td>NaN</td>\n      <td>NaN</td>\n      <td>NaN</td>\n      <td>NaN</td>\n      <td>NaN</td>\n      <td>NaN</td>\n      <td>NaN</td>\n      <td>NaN</td>\n      <td>NaN</td>\n    </tr>\n    <tr>\n      <th>144</th>\n      <td>537fdb05b318a195d85b96f371d9e7e3f1275dca4bac65...</td>\n      <td>GetMessageTime,GetCaretBlinkTime,UpdateLayered...</td>\n      <td>Virus</td>\n      <td>NaN</td>\n      <td>NaN</td>\n      <td>NaN</td>\n      <td>NaN</td>\n      <td>NaN</td>\n      <td>NaN</td>\n      <td>NaN</td>\n      <td>...</td>\n      <td>NaN</td>\n      <td>NaN</td>\n      <td>NaN</td>\n      <td>NaN</td>\n      <td>NaN</td>\n      <td>NaN</td>\n      <td>NaN</td>\n      <td>NaN</td>\n      <td>NaN</td>\n      <td>NaN</td>\n    </tr>\n    <tr>\n      <th>371</th>\n      <td>347c2d6bcf59e46db9d361e31c075d23579d2a7ea5786d...</td>\n      <td>RtlPopFrame,NtCreateKeyedEvent,GetMessagePos,G...</td>\n      <td>Virus</td>\n      <td>NaN</td>\n      <td>NaN</td>\n      <td>NaN</td>\n      <td>NaN</td>\n      <td>NaN</td>\n      <td>NaN</td>\n      <td>NaN</td>\n      <td>...</td>\n      <td>NaN</td>\n      <td>NaN</td>\n      <td>NaN</td>\n      <td>NaN</td>\n      <td>NaN</td>\n      <td>NaN</td>\n      <td>NaN</td>\n      <td>NaN</td>\n      <td>NaN</td>\n      <td>NaN</td>\n    </tr>\n  </tbody>\n</table>\n<p>23 rows × 98 columns</p>\n</div>"
          },
          "metadata": {}
        }
      ]
    },
    {
      "cell_type": "code",
      "source": "%matplotlib inline",
      "metadata": {
        "trusted": true
      },
      "execution_count": 6,
      "outputs": []
    },
    {
      "cell_type": "code",
      "source": "df[\"FreeLibrary\"].unique()",
      "metadata": {
        "trusted": true
      },
      "execution_count": 8,
      "outputs": [
        {
          "execution_count": 8,
          "output_type": "execute_result",
          "data": {
            "text/plain": "array(['Worms', 'Ransomware', 'Virus', 'Trojan'], dtype=object)"
          },
          "metadata": {}
        }
      ]
    },
    {
      "cell_type": "code",
      "source": "#Primer Algoritmo",
      "metadata": {},
      "execution_count": null,
      "outputs": []
    },
    {
      "cell_type": "code",
      "source": "import pandas as pd\nimport numpy as np\nfrom sklearn.model_selection import train_test_split\nfrom sklearn.ensemble import RandomForestClassifier\nfrom sklearn.metrics import accuracy_score\nimport matplotlib.pyplot as plt\n%matplotlib inline\n",
      "metadata": {
        "trusted": true
      },
      "execution_count": 12,
      "outputs": []
    },
    {
      "cell_type": "code",
      "source": "data = pd.read_csv('VirusSample.csv')",
      "metadata": {
        "trusted": true
      },
      "execution_count": 13,
      "outputs": []
    },
    {
      "cell_type": "code",
      "source": "def word_count(text):\n    return len(text.split())\n\ndata['word_count'] = data['file'].apply(word_count)\n\nX = np.array(data['word_count']).reshape(-1, 1)\ny = np.array(data['label'])\n",
      "metadata": {},
      "execution_count": null,
      "outputs": []
    },
    {
      "cell_type": "code",
      "source": "X_train, X_test, y_train, y_test = train_test_split(X, y, test_size=0.2, random_state=42)\n",
      "metadata": {},
      "execution_count": null,
      "outputs": []
    },
    {
      "cell_type": "code",
      "source": "rf = RandomForestClassifier(n_estimators=100, random_state=42)\nrf.fit(X_train, y_train)\n",
      "metadata": {},
      "execution_count": null,
      "outputs": []
    },
    {
      "cell_type": "code",
      "source": "y_pred = rf.predict(X_test)\naccuracy = accuracy_score(y_test, y_pred)\nprint('Precisión del modelo:', accuracy)\n",
      "metadata": {},
      "execution_count": null,
      "outputs": []
    },
    {
      "cell_type": "code",
      "source": "labels = ['benigno', 'malware']\nvalues = [(y_test == 0).sum(), (y_test == 1).sum()]\n\nplt.bar(labels, values)\nplt.show()",
      "metadata": {},
      "execution_count": null,
      "outputs": []
    },
    {
      "cell_type": "code",
      "source": "#Segundo Algoritmo",
      "metadata": {},
      "execution_count": null,
      "outputs": []
    },
    {
      "cell_type": "code",
      "source": "import pandas as pd\nfrom sklearn.ensemble import RandomForestClassifier\nfrom sklearn.model_selection import train_test_split\nfrom sklearn.metrics import accuracy_score\n\n\ndata = pd.read_csv('VirusSample.csv')\n\n\nX = data.drop('label', axis=1)\ny = data['label']\n\n\nX_train, X_test, y_train, y_test = train_test_split(X, y, test_size=0.2, random_state=42)\n\n\nmodel = RandomForestClassifier(n_estimators=100, random_state=42)\n\n\nmodel.fit(X_train, y_train)\n\n\ny_pred = model.predict(X_test)\naccuracy = accuracy_score(y_test, y_pred)\nprint('Precisión del modelo: ', accuracy)",
      "metadata": {},
      "execution_count": null,
      "outputs": []
    }
  ]
}